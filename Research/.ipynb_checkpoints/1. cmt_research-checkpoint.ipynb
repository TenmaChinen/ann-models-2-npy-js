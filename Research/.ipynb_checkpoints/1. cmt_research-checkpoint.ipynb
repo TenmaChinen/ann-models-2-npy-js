{
 "cells": [
  {
   "cell_type": "code",
   "execution_count": 102,
   "id": "9e001c73-e7bc-44b6-abe2-32518d12dded",
   "metadata": {},
   "outputs": [],
   "source": [
    "from tensorflow.keras.models import load_model\n",
    "from nn.data.datasets import get_xor_dataset\n",
    "import numpy as np\n",
    "import h5py\n",
    "import json"
   ]
  },
  {
   "cell_type": "markdown",
   "id": "b1ce6224-23ca-4f5e-95af-aa3d2493ab63",
   "metadata": {},
   "source": [
    "# DATASET"
   ]
  },
  {
   "cell_type": "code",
   "execution_count": 103,
   "id": "fcc3829f-8d4f-411b-a576-1662ccfd07aa",
   "metadata": {},
   "outputs": [],
   "source": [
    "l_results = get_xor_dataset( split = 0.3 , seed = SEED )\n",
    "x_train , y_train , x_test , y_test , x_sample , y_sample = l_results"
   ]
  },
  {
   "cell_type": "markdown",
   "id": "87220455-21b3-422a-9ce8-13dcce93b8c0",
   "metadata": {},
   "source": [
    "# LOAD"
   ]
  },
  {
   "cell_type": "code",
   "execution_count": 104,
   "id": "750747e2-b55b-4ebc-bfe1-ff41389183fb",
   "metadata": {},
   "outputs": [],
   "source": [
    "CMT_DIR = 'cmt_model/model.h5'"
   ]
  },
  {
   "cell_type": "code",
   "execution_count": 105,
   "id": "bcbcef3b-2aef-40b4-8ea8-78eeac1b225c",
   "metadata": {},
   "outputs": [
    {
     "name": "stdout",
     "output_type": "stream",
     "text": [
      "[[ 0.09024294]\n",
      " [ 1.1006541 ]\n",
      " [ 1.3289665 ]\n",
      " [-0.3573124 ]]\n"
     ]
    }
   ],
   "source": [
    "model_a = load_model( filepath = CMT_DIR , compile = True )\n",
    "# pred = model_a.predict( x = x_sample ).round()\n",
    "pred = model_a.predict( x = x_sample )\n",
    "print(pred)"
   ]
  },
  {
   "cell_type": "markdown",
   "id": "06041213-29fd-4586-8506-933447562791",
   "metadata": {},
   "source": [
    "# EXPLORATION"
   ]
  },
  {
   "cell_type": "markdown",
   "id": "808264be-707f-4997-95d7-070f37df6ee9",
   "metadata": {},
   "source": [
    "## H5 Attrs"
   ]
  },
  {
   "cell_type": "code",
   "execution_count": 106,
   "id": "ab5ae08b-5097-49e0-8ec8-38f5fc267c1e",
   "metadata": {},
   "outputs": [],
   "source": [
    "cmt_data = h5py.File(CMT_DIR,'r')\n",
    "# cmt_data.close()"
   ]
  },
  {
   "cell_type": "code",
   "execution_count": 107,
   "id": "d4926484-9f29-4637-8a16-9cfd41655fa3",
   "metadata": {},
   "outputs": [
    {
     "data": {
      "text/plain": [
       "<KeysViewHDF5 ['backend', 'keras_version', 'model_config', 'training_config']>"
      ]
     },
     "execution_count": 107,
     "metadata": {},
     "output_type": "execute_result"
    }
   ],
   "source": [
    "cmt_data.attrs.keys()"
   ]
  },
  {
   "cell_type": "code",
   "execution_count": 108,
   "id": "3845fd43-80cb-4b94-9a14-fcdcadfc7e9d",
   "metadata": {},
   "outputs": [
    {
     "data": {
      "text/plain": [
       "'tensorflow'"
      ]
     },
     "execution_count": 108,
     "metadata": {},
     "output_type": "execute_result"
    }
   ],
   "source": [
    "cmt_data.attrs['backend']"
   ]
  },
  {
   "cell_type": "code",
   "execution_count": 109,
   "id": "9ead46cc-fa11-4bd1-bf7c-9079129f5b6a",
   "metadata": {},
   "outputs": [
    {
     "data": {
      "text/plain": [
       "dict_keys(['loss', 'metrics', 'weighted_metrics', 'loss_weights', 'optimizer_config'])"
      ]
     },
     "execution_count": 109,
     "metadata": {},
     "output_type": "execute_result"
    }
   ],
   "source": [
    "json.loads(cmt_data.attrs['training_config']).keys()"
   ]
  },
  {
   "cell_type": "code",
   "execution_count": 110,
   "id": "5ea79130-1cb1-4522-af67-e9c198cfd146",
   "metadata": {},
   "outputs": [
    {
     "data": {
      "text/plain": [
       "'2.7.0'"
      ]
     },
     "execution_count": 110,
     "metadata": {},
     "output_type": "execute_result"
    }
   ],
   "source": [
    "cmt_data.attrs['keras_version']"
   ]
  },
  {
   "cell_type": "markdown",
   "id": "2696a944-1d5d-41e8-8d78-328dbf8e49d3",
   "metadata": {},
   "source": [
    "### Model Configuration"
   ]
  },
  {
   "cell_type": "code",
   "execution_count": 115,
   "id": "c45f627a-2874-4cc2-bb69-49392bc4e9ef",
   "metadata": {},
   "outputs": [
    {
     "name": "stdout",
     "output_type": "stream",
     "text": [
      "{'class_name': 'Sequential', 'config': {'name': 'sequential', 'layers': [{'class_name': 'InputLayer', 'config': {'batch_input_shape': [None, 2], 'dtype': 'float32', 'sparse': False, 'ragged': False, 'name': 'hidden_1_input'}}, {'class_name': 'Dense', 'config': {'name': 'hidden_1', 'trainable': True, 'batch_input_shape': [None, 2], 'dtype': 'float32', 'units': 10, 'activation': 'sigmoid', 'use_bias': True, 'kernel_initializer': {'class_name': 'RandomNormal', 'config': {'mean': 0, 'stddev': 0.05, 'seed': 11}}, 'bias_initializer': {'class_name': 'RandomNormal', 'config': {'mean': 0, 'stddev': 0.05, 'seed': 11}}, 'kernel_regularizer': None, 'bias_regularizer': None, 'activity_regularizer': None, 'kernel_constraint': None, 'bias_constraint': None}}, {'class_name': 'Dense', 'config': {'name': 'output', 'trainable': True, 'dtype': 'float32', 'units': 1, 'activation': 'linear', 'use_bias': False, 'kernel_initializer': {'class_name': 'RandomNormal', 'config': {'mean': 0, 'stddev': 0.05, 'seed': 11}}, 'bias_initializer': {'class_name': 'Zeros', 'config': {}}, 'kernel_regularizer': None, 'bias_regularizer': None, 'activity_regularizer': None, 'kernel_constraint': None, 'bias_constraint': None}}]}}\n"
     ]
    }
   ],
   "source": [
    "str_model_config = cmt_data.attrs['model_config']\n",
    "model_config = json.loads(str_model_config)\n",
    "print(model_config)"
   ]
  },
  {
   "cell_type": "code",
   "execution_count": 116,
   "id": "6c63dd3f-1318-44d5-8e4b-3e5be199770a",
   "metadata": {},
   "outputs": [
    {
     "data": {
      "text/plain": [
       "dict_keys(['class_name', 'config'])"
      ]
     },
     "execution_count": 116,
     "metadata": {},
     "output_type": "execute_result"
    }
   ],
   "source": [
    "model_config.keys()"
   ]
  },
  {
   "cell_type": "markdown",
   "id": "ce2c3e2b-e91b-4ca2-8d0e-72cce097be28",
   "metadata": {},
   "source": [
    "### Checking If is Sequential"
   ]
  },
  {
   "cell_type": "code",
   "execution_count": 117,
   "id": "3c77cae5-ca1b-4031-9b37-bb757982ca2d",
   "metadata": {},
   "outputs": [
    {
     "data": {
      "text/plain": [
       "'Sequential'"
      ]
     },
     "execution_count": 117,
     "metadata": {},
     "output_type": "execute_result"
    }
   ],
   "source": [
    "model_config['class_name']"
   ]
  },
  {
   "cell_type": "code",
   "execution_count": 118,
   "id": "40416c90-4f1c-4e0e-9d63-e82d303af212",
   "metadata": {},
   "outputs": [
    {
     "data": {
      "text/plain": [
       "dict_keys(['name', 'layers'])"
      ]
     },
     "execution_count": 118,
     "metadata": {},
     "output_type": "execute_result"
    }
   ],
   "source": [
    "model_config['config'].keys()"
   ]
  },
  {
   "cell_type": "code",
   "execution_count": 119,
   "id": "5c1a411f-6c6e-4d4a-b919-3ac15c240550",
   "metadata": {},
   "outputs": [
    {
     "data": {
      "text/plain": [
       "[dict_keys(['class_name', 'config']),\n",
       " dict_keys(['class_name', 'config']),\n",
       " dict_keys(['class_name', 'config'])]"
      ]
     },
     "execution_count": 119,
     "metadata": {},
     "output_type": "execute_result"
    }
   ],
   "source": [
    "[ x.keys() for x in model_config['config']['layers']]"
   ]
  },
  {
   "cell_type": "code",
   "execution_count": null,
   "id": "b6878415-2fb4-469d-897e-ba0fba6125b5",
   "metadata": {},
   "outputs": [],
   "source": [
    "\"\"\" 'name', 'batch_input_shape', 'dtype', 'units', 'activation', 'use_bias' \"\"\""
   ]
  },
  {
   "cell_type": "code",
   "execution_count": 120,
   "id": "66f031a0-388c-4264-8f95-9422294aa171",
   "metadata": {},
   "outputs": [
    {
     "name": "stdout",
     "output_type": "stream",
     "text": [
      "\n",
      " InputLayer :\n",
      "   hidden_1_input [None, 2] float32\n",
      "\n",
      " Dense :\n",
      "   hidden_1 10 float32 sigmoid True\n",
      "\n",
      " Dense :\n",
      "   output 1 float32 linear False\n"
     ]
    }
   ],
   "source": [
    "l_layers_cnf = []\n",
    "l_keys = ['name','units','dtype','activation','use_bias']\n",
    "\n",
    "for layer in model_config['config']['layers']:\n",
    "    l_cnf = layer['config']\n",
    "    class_name = layer['class_name']\n",
    "    print('\\n',class_name,':')\n",
    "    if class_name == 'InputLayer' :\n",
    "        print('  ',l_cnf['name'], l_cnf['batch_input_shape'], l_cnf['dtype'])\n",
    "    else:\n",
    "        d_cnf = { k : l_cnf[k] for k in l_keys }\n",
    "        print('  ', *list(d_cnf.values()))\n",
    "        # print('  ',l_cnf['name'], l_cnf['units'], l_cnf['dtype'], l_cnf['activation'], l_cnf['use_bias'])\n",
    "        l_layers_cnf.append(d_cnf)\n",
    "    # print('  ',layer['config'].keys())"
   ]
  },
  {
   "cell_type": "markdown",
   "id": "097ae626-9ef2-49eb-bb8d-ddaed9a6a4a0",
   "metadata": {},
   "source": [
    "## Weights"
   ]
  },
  {
   "cell_type": "code",
   "execution_count": 121,
   "id": "77136295-0f5e-46ad-a321-d6ff8312f836",
   "metadata": {},
   "outputs": [
    {
     "data": {
      "text/plain": [
       "<KeysViewHDF5 ['hidden_1', 'output', 'top_level_model_weights']>"
      ]
     },
     "execution_count": 121,
     "metadata": {},
     "output_type": "execute_result"
    }
   ],
   "source": [
    "cmt_data['model_weights'].keys()"
   ]
  },
  {
   "cell_type": "markdown",
   "id": "315d974d-f692-4b26-bd4c-b53cfcc5e1f7",
   "metadata": {},
   "source": [
    "## NUMPY MODEL"
   ]
  },
  {
   "cell_type": "markdown",
   "id": "8a3312bf-f561-4ce1-afc9-d650fb365144",
   "metadata": {},
   "source": [
    "## Weights & Acts"
   ]
  },
  {
   "cell_type": "code",
   "execution_count": 122,
   "id": "9ea56a2e-fbda-4f75-a97e-236154e07c8e",
   "metadata": {},
   "outputs": [],
   "source": [
    "d_model_weights = cmt_data['model_weights']\n",
    "l_w, l_b, l_a = [], [], []\n",
    "\n",
    "for layer_cnf in l_layers_cnf:\n",
    "    name = layer_cnf['name']\n",
    "    activation = layer_cnf['activation']\n",
    "    d_weights = d_model_weights[name][name]\n",
    "    \n",
    "    kernel = d_weights['kernel:0'][:]\n",
    "    bias = d_weights['bias:0'][:] if layer_cnf['use_bias'] else 0\n",
    "\n",
    "    l_w.append(kernel)\n",
    "    l_b.append(bias)\n",
    "    l_a.append(activation)"
   ]
  },
  {
   "cell_type": "markdown",
   "id": "04f859a9-fe1a-4e62-8050-8cb2c37930bd",
   "metadata": {},
   "source": [
    "### ACTIVATION FUNCS"
   ]
  },
  {
   "cell_type": "code",
   "execution_count": 123,
   "id": "ef6444c5-3805-44c5-b020-6d2695c2563b",
   "metadata": {},
   "outputs": [
    {
     "data": {
      "text/plain": [
       "'import numpy as np\\n\\nlinear = lambda x : x\\nrelu = lambda x : np.maximum(0,x)\\nsigmoid = lambda x : 1/(1 + np.exp(-x))\\n'"
      ]
     },
     "execution_count": 123,
     "metadata": {},
     "output_type": "execute_result"
    }
   ],
   "source": [
    "file = open('activations.py','r')\n",
    "s_code_act = file.read()\n",
    "file.close()\n",
    "s_code_act"
   ]
  },
  {
   "cell_type": "markdown",
   "id": "a093543f-1b12-40a6-b03b-04ea3b66b2db",
   "metadata": {},
   "source": [
    "## Functions Regex"
   ]
  },
  {
   "cell_type": "code",
   "execution_count": 124,
   "id": "f6f826e7-eb48-4e44-915b-004b0559bc96",
   "metadata": {},
   "outputs": [
    {
     "name": "stdout",
     "output_type": "stream",
     "text": [
      "linear = lambda x : x\n",
      "sigmoid = lambda x : 1/(1 + np.exp(-x))\n",
      "\n",
      "d_act = { 'linear' : linear, 'sigmoid' : sigmoid }\n",
      "\n",
      "\n"
     ]
    }
   ],
   "source": [
    "import re\n",
    "\n",
    "def get_act_fnc(l_a):\n",
    "    string = ''\n",
    "    for activation in set(l_a):\n",
    "        pattern = activation + r'.*'\n",
    "        result = re.search(pattern,s_code_act)\n",
    "        if result:\n",
    "            string += result.group() + '\\n'\n",
    "            \n",
    "    string += '\\nd_act = { ' + ', '.join([ f\"'{act}' : {act}\" for act in set(l_a)]) + ' }\\n\\n'\n",
    "    return string\n",
    "\n",
    "print(get_act_fnc(l_a))"
   ]
  },
  {
   "cell_type": "markdown",
   "id": "1226fec9-3e21-4c11-bfc6-80cd0a9645d1",
   "metadata": {},
   "source": [
    "### FEEDFORWARD"
   ]
  },
  {
   "cell_type": "code",
   "execution_count": 125,
   "id": "f92ac9d1-9d12-4a26-9eae-4a09d57c66e9",
   "metadata": {},
   "outputs": [
    {
     "name": "stdout",
     "output_type": "stream",
     "text": [
      "[[ 0.09024292]\n",
      " [ 1.1006538 ]\n",
      " [ 1.32896663]\n",
      " [-0.35731253]]\n"
     ]
    }
   ],
   "source": [
    "exec(get_act_fnc(l_a))\n",
    "\n",
    "output = x_sample\n",
    "\n",
    "for w,b,act in zip(l_w,l_b,l_a):\n",
    "    f_act = d_act[act]\n",
    "    output = f_act(output.dot(w) + b)\n",
    "\n",
    "print(output)"
   ]
  },
  {
   "cell_type": "markdown",
   "id": "4de46488-7691-4c01-8c7f-02537ffbc2f5",
   "metadata": {},
   "source": [
    "# NUMPY CLASS"
   ]
  },
  {
   "cell_type": "markdown",
   "id": "02d5741a-63b2-45ab-b2f9-191c1f5cd31f",
   "metadata": {},
   "source": [
    "## MODEL FILE GENERATION"
   ]
  },
  {
   "cell_type": "code",
   "execution_count": 126,
   "id": "451c22da-83cb-4138-adf3-2f027cda20ea",
   "metadata": {},
   "outputs": [
    {
     "name": "stdout",
     "output_type": "stream",
     "text": [
      "import numpy as np\n",
      "\n",
      "linear = lambda x : x\n",
      "sigmoid = lambda x : 1/(1 + np.exp(-x))\n",
      "\n",
      "d_act = { 'linear' : linear, 'sigmoid' : sigmoid }\n",
      "\n",
      "l_w = [[[-0.5692449808120728, 7.034882068634033, 0.8901565670967102, -1.2982566356658936, -7.78250789642334, -0.596753716468811, -3.094672679901123, 0.4607388377189636, -0.5057770609855652, -0.3972644507884979], [-0.9048697352409363, 6.902655124664307, 1.6131205558776855, -0.23207269608974457, 5.748035907745361, -0.43503740429878235, 5.758194923400879, 2.4055724143981934, -1.5594075918197632, -1.570223331451416]], [[0.12166593223810196], [1.637164831161499], [-0.4853067398071289], [0.09327518194913864], [1.5986828804016113], [0.031022746115922928], [-1.3279681205749512], [-0.7030462622642517], [0.2715253531932831], [0.3019183874130249]]]\n",
      "\n",
      "l_b = [[-0.07483713328838348, -4.254740238189697, -0.608847975730896, -0.5387024283409119, -0.8356730341911316, -0.22868682444095612, -0.4641977548599243, -1.3353506326675415, 0.20014885067939758, 0.09103742241859436], 0]\n",
      "\n",
      "l_a = ['sigmoid', 'linear']\n",
      "l_w = list(map(np.array,l_w))\n",
      "l_b = list(map(lambda x : np.array(x) if type(x) is list else x, l_b))\n",
      "\n",
      "def feedforward(x):\n",
      "    output = x.copy()\n",
      "    for w,b,act in zip(l_w,l_b,l_a):\n",
      "        f_act = d_act[act]\n",
      "        output = f_act(output.dot(w) + b)\n",
      "    return output\n",
      "\n"
     ]
    }
   ],
   "source": [
    "s_code = 'import numpy as np\\n\\n'\n",
    "s_code += get_act_fnc(l_a)\n",
    "s_code += f'l_w = {str(list(map(lambda w : w.tolist(), l_w)))}\\n\\n'\n",
    "s_code += f'l_b = {str(list(map(lambda b : b if type(b) is int else b.tolist(), l_b)))}\\n\\n'\n",
    "s_code += f'l_a = {str(l_a)}\\n'\n",
    "\n",
    "s_code += f'l_w = list(map(np.array,l_w))\\n'\n",
    "s_code += f'l_b = list(map(lambda x : np.array(x) if type(x) is list else x, l_b))\\n'\n",
    "                       \n",
    "s_code += f'''\n",
    "def feedforward(x):\n",
    "    output = x.copy()\n",
    "    for w,b,act in zip(l_w,l_b,l_a):\n",
    "        f_act = d_act[act]\n",
    "        output = f_act(output.dot(w) + b)\n",
    "    return output\n",
    "'''\n",
    "print(s_code)\n",
    "\n",
    "file = open('model.py', 'w')\n",
    "file.write(s_code)\n",
    "file.close()"
   ]
  },
  {
   "cell_type": "markdown",
   "id": "f69cfa52-96cc-4c38-ad4c-fe15f3501041",
   "metadata": {},
   "source": [
    "## MODEL FILE TEST"
   ]
  },
  {
   "cell_type": "code",
   "execution_count": 127,
   "id": "8a8cc03a-454e-4396-be04-eaa0fdb208ef",
   "metadata": {},
   "outputs": [],
   "source": [
    "import model"
   ]
  },
  {
   "cell_type": "code",
   "execution_count": 128,
   "id": "c551ec60-29a3-411f-930c-dde33a8b670f",
   "metadata": {},
   "outputs": [
    {
     "data": {
      "text/plain": [
       "array([[ 0.09024292],\n",
       "       [ 1.1006538 ],\n",
       "       [ 1.32896663],\n",
       "       [-0.35731253]])"
      ]
     },
     "execution_count": 128,
     "metadata": {},
     "output_type": "execute_result"
    }
   ],
   "source": [
    "model.feedforward(x = x_sample)"
   ]
  }
 ],
 "metadata": {
  "kernelspec": {
   "display_name": "Python 3 (ipykernel)",
   "language": "python",
   "name": "python3"
  },
  "language_info": {
   "codemirror_mode": {
    "name": "ipython",
    "version": 3
   },
   "file_extension": ".py",
   "mimetype": "text/x-python",
   "name": "python",
   "nbconvert_exporter": "python",
   "pygments_lexer": "ipython3",
   "version": "3.9.0"
  },
  "toc-autonumbering": true
 },
 "nbformat": 4,
 "nbformat_minor": 5
}
