{
 "cells": [
  {
   "cell_type": "code",
   "execution_count": 26,
   "id": "dfbfadd2-5221-42f1-84ce-d641ba9ee240",
   "metadata": {},
   "outputs": [],
   "source": [
    "import generator as gen"
   ]
  },
  {
   "cell_type": "markdown",
   "id": "7e2c8f67-ef29-425d-a351-765d1fe137f2",
   "metadata": {},
   "source": [
    "# PYTHON NUMPY MODEL"
   ]
  },
  {
   "cell_type": "markdown",
   "id": "6886a6a1-c575-4efc-8bd3-9194c54cd81c",
   "metadata": {},
   "source": [
    "## XOR MODEL"
   ]
  },
  {
   "cell_type": "code",
   "execution_count": 125,
   "id": "db4c665b-4f54-4b04-a77b-e68f426b91c6",
   "metadata": {},
   "outputs": [
    {
     "name": "stdout",
     "output_type": "stream",
     "text": [
      "[[ 0.09024292]\n",
      " [ 1.1006538 ]\n",
      " [ 1.32896663]\n",
      " [-0.35731253]]\n"
     ]
    }
   ],
   "source": [
    "# H5_PATH = 'cmt_model/xor.h5'\n",
    "H5_PATH = 'sep_model/xor/weights.h5'\n",
    "JSON_PATH = 'sep_model/xor/model.json'\n",
    "# JSON_PATH = None\n",
    "\n",
    "l_results = gen.get_model_data(h5_path = H5_PATH,json_path = JSON_PATH)\n",
    "\n",
    "if l_results:\n",
    "    l_w, l_b, l_a = l_results\n",
    "    str_code = gen.get_py_code(l_w, l_b, l_a)\n",
    "    exec(str_code)\n",
    "\n",
    "    x_test = np.array([[0,0],[0,1],[1,0],[1,1]])\n",
    "    model = Model()\n",
    "    pred = model.pred(x_test)\n",
    "    print(pred)"
   ]
  },
  {
   "cell_type": "markdown",
   "id": "98e771ec-733b-4a9c-91c8-ff83a60ff3e6",
   "metadata": {},
   "source": [
    "## IRIS MODEL"
   ]
  },
  {
   "cell_type": "code",
   "execution_count": 117,
   "id": "8fc1289c-0338-49a4-a8a1-7824915afa63",
   "metadata": {},
   "outputs": [
    {
     "name": "stdout",
     "output_type": "stream",
     "text": [
      "[[0 1 0]\n",
      " [1 0 0]\n",
      " [0 1 0]]\n"
     ]
    }
   ],
   "source": [
    "H5_PATH = 'cmt_model/iris.h5'\n",
    "JSON_PATH = None\n",
    "\n",
    "H5_PATH = 'sep_model/iris/weights.h5'\n",
    "JSON_PATH = 'sep_model/iris/model.json'\n",
    "\n",
    "l_results = gen.get_model_data(h5_path = H5_PATH,json_path = JSON_PATH)\n",
    "\n",
    "if l_results:\n",
    "    l_w, l_b, l_a = l_results\n",
    "    str_code = gen.get_py_code(l_w, l_b, l_a)\n",
    "    exec(str_code)\n",
    "\n",
    "    x_test = np.array([[0.39, 0.38, 0.54, 0.5], [0.11, 0.5, 0.1, 0.04], [0.61, 0.33, 0.61, 0.58]])\n",
    "    model = Model()\n",
    "    pred = model.pred(x_test)\n",
    "    print(pred.round().astype(int))"
   ]
  },
  {
   "cell_type": "markdown",
   "id": "48262961-9f02-483e-b8bd-ad008b293a67",
   "metadata": {},
   "source": [
    "# JAVASCRIPT MODEL"
   ]
  },
  {
   "cell_type": "code",
   "execution_count": 144,
   "id": "8b146df3-abe9-4e0b-be0e-6b497c2d8018",
   "metadata": {},
   "outputs": [
    {
     "name": "stdout",
     "output_type": "stream",
     "text": [
      "\n",
      "Finished\n"
     ]
    }
   ],
   "source": [
    "H5_PATH = 'cmt_model/xor.h5'\n",
    "# H5_PATH = 'sep_model/xor/weights.h5'\n",
    "# JSON_PATH = 'sep_model/xor/model.json'\n",
    "# JSON_PATH = None\n",
    "\n",
    "l_results = gen.get_model_data(h5_path = H5_PATH, json_path = JSON_PATH)\n",
    "\n",
    "if l_results:\n",
    "    l_w, l_b, l_a = l_results\n",
    "    str_code = gen.get_js_code(l_w, l_b, l_a)\n",
    "    \n",
    "    file = open('js_model/model.js','w')\n",
    "    file.write(str_code)\n",
    "    file.close()\n",
    "print('\\nFinished')"
   ]
  }
 ],
 "metadata": {
  "kernelspec": {
   "display_name": "Python 3 (ipykernel)",
   "language": "python",
   "name": "python3"
  },
  "language_info": {
   "codemirror_mode": {
    "name": "ipython",
    "version": 3
   },
   "file_extension": ".py",
   "mimetype": "text/x-python",
   "name": "python",
   "nbconvert_exporter": "python",
   "pygments_lexer": "ipython3",
   "version": "3.9.0"
  }
 },
 "nbformat": 4,
 "nbformat_minor": 5
}
