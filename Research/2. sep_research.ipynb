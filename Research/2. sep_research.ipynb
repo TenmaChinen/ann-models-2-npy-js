{
 "cells": [
  {
   "cell_type": "code",
   "execution_count": 8,
   "id": "9e001c73-e7bc-44b6-abe2-32518d12dded",
   "metadata": {},
   "outputs": [],
   "source": [
    "from tensorflow.keras.models import model_from_json\n",
    "from nn.data.datasets import get_xor_dataset\n",
    "import numpy as np\n",
    "import h5py\n",
    "import json"
   ]
  },
  {
   "cell_type": "markdown",
   "id": "b1ce6224-23ca-4f5e-95af-aa3d2493ab63",
   "metadata": {},
   "source": [
    "# DATASET"
   ]
  },
  {
   "cell_type": "code",
   "execution_count": 9,
   "id": "fcc3829f-8d4f-411b-a576-1662ccfd07aa",
   "metadata": {},
   "outputs": [],
   "source": [
    "SEED = 11\n",
    "l_results = get_xor_dataset( split = 0.3 , seed = SEED )\n",
    "x_train , y_train , x_test , y_test , x_sample , y_sample = l_results"
   ]
  },
  {
   "cell_type": "markdown",
   "id": "7d05dcff-c97d-49ce-8b3f-f3ecac8d2992",
   "metadata": {},
   "source": [
    "# LOAD MODEL"
   ]
  },
  {
   "cell_type": "code",
   "execution_count": 10,
   "id": "d17dd379-0aab-4207-b391-c00395f4b40a",
   "metadata": {},
   "outputs": [],
   "source": [
    "SEP_MODEL_DIR = 'sep_model/model.json'\n",
    "SEP_WEIGHTS_DIR = 'sep_model/weights.h5'"
   ]
  },
  {
   "cell_type": "code",
   "execution_count": 52,
   "id": "eeffb401-c553-4a0b-a428-b1bb3a23b76e",
   "metadata": {},
   "outputs": [
    {
     "name": "stdout",
     "output_type": "stream",
     "text": [
      "[[ 0.]\n",
      " [ 1.]\n",
      " [ 1.]\n",
      " [-0.]]\n"
     ]
    }
   ],
   "source": [
    "file = open( SEP_MODEL_DIR , 'r' )\n",
    "model_json = file.read();\n",
    "file.close()\n",
    "\n",
    "model = model_from_json( model_json )\n",
    "model.load_weights( SEP_WEIGHTS_DIR )\n",
    "\n",
    "pred = model.predict( x = x_sample )\n",
    "print(pred.round())"
   ]
  },
  {
   "cell_type": "markdown",
   "id": "06041213-29fd-4586-8506-933447562791",
   "metadata": {},
   "source": [
    "# EXPLORATION"
   ]
  },
  {
   "cell_type": "markdown",
   "id": "808264be-707f-4997-95d7-070f37df6ee9",
   "metadata": {},
   "source": [
    "## H5 Attrs"
   ]
  },
  {
   "cell_type": "code",
   "execution_count": 70,
   "id": "ab5ae08b-5097-49e0-8ec8-38f5fc267c1e",
   "metadata": {},
   "outputs": [
    {
     "data": {
      "text/plain": [
       "<HDF5 file \"weights.h5\" (mode r)>"
      ]
     },
     "execution_count": 70,
     "metadata": {},
     "output_type": "execute_result"
    }
   ],
   "source": [
    "model_weights = h5py.File(SEP_WEIGHTS_DIR,'r')\n",
    "model_weights\n",
    "# sep_data.close()"
   ]
  },
  {
   "cell_type": "code",
   "execution_count": 71,
   "id": "d4926484-9f29-4637-8a16-9cfd41655fa3",
   "metadata": {},
   "outputs": [
    {
     "data": {
      "text/plain": [
       "<KeysViewHDF5 ['backend', 'keras_version', 'layer_names']>"
      ]
     },
     "execution_count": 71,
     "metadata": {},
     "output_type": "execute_result"
    }
   ],
   "source": [
    "model_weights.attrs.keys()"
   ]
  },
  {
   "cell_type": "code",
   "execution_count": 72,
   "id": "3845fd43-80cb-4b94-9a14-fcdcadfc7e9d",
   "metadata": {},
   "outputs": [
    {
     "data": {
      "text/plain": [
       "'tensorflow'"
      ]
     },
     "execution_count": 72,
     "metadata": {},
     "output_type": "execute_result"
    }
   ],
   "source": [
    "model_weights.attrs['backend']"
   ]
  },
  {
   "cell_type": "code",
   "execution_count": 73,
   "id": "9ead46cc-fa11-4bd1-bf7c-9079129f5b6a",
   "metadata": {},
   "outputs": [
    {
     "data": {
      "text/plain": [
       "array(['hidden_1', 'output'], dtype=object)"
      ]
     },
     "execution_count": 73,
     "metadata": {},
     "output_type": "execute_result"
    }
   ],
   "source": [
    "# training_config NO EXISTS\n",
    "# json.loads(sep_data.attrs['training_config']).keys()\n",
    "layer_names = model_weights.attrs['layer_names']\n",
    "layer_names"
   ]
  },
  {
   "cell_type": "code",
   "execution_count": 74,
   "id": "5ea79130-1cb1-4522-af67-e9c198cfd146",
   "metadata": {},
   "outputs": [
    {
     "data": {
      "text/plain": [
       "'2.7.0'"
      ]
     },
     "execution_count": 74,
     "metadata": {},
     "output_type": "execute_result"
    }
   ],
   "source": [
    "model_weights.attrs['keras_version']"
   ]
  },
  {
   "cell_type": "markdown",
   "id": "34dabd01-e763-4554-b50b-6cf76b3492ea",
   "metadata": {},
   "source": [
    "## Model Config"
   ]
  },
  {
   "cell_type": "code",
   "execution_count": 54,
   "id": "c45f627a-2874-4cc2-bb69-49392bc4e9ef",
   "metadata": {},
   "outputs": [
    {
     "data": {
      "text/plain": [
       "dict_keys(['class_name', 'config', 'keras_version', 'backend'])"
      ]
     },
     "execution_count": 54,
     "metadata": {},
     "output_type": "execute_result"
    }
   ],
   "source": [
    "# model_confi NO EXISTS\n",
    "# sep_data.attrs['model_config']\n",
    "model_config = json.loads(model_json)\n",
    "model_config.keys()"
   ]
  },
  {
   "cell_type": "code",
   "execution_count": 58,
   "id": "701fd945-72a5-458b-a9b0-2f1c1497bd13",
   "metadata": {},
   "outputs": [
    {
     "name": "stdout",
     "output_type": "stream",
     "text": [
      "Class Name : Sequential\n",
      "dict_keys(['name', 'layers'])\n"
     ]
    }
   ],
   "source": [
    "print('Class Name :',model_config['class_name'])\n",
    "print(model_config['config'].keys())"
   ]
  },
  {
   "cell_type": "code",
   "execution_count": 60,
   "id": "e145dea8-a64e-4441-a201-ea88c6dde05c",
   "metadata": {},
   "outputs": [
    {
     "data": {
      "text/plain": [
       "dict_keys(['class_name', 'config'])"
      ]
     },
     "execution_count": 60,
     "metadata": {},
     "output_type": "execute_result"
    }
   ],
   "source": [
    "model_config['config']['layers'][0].keys()"
   ]
  },
  {
   "cell_type": "code",
   "execution_count": 62,
   "id": "bab4667e-e9ef-4129-aecf-0e4b8aac5067",
   "metadata": {},
   "outputs": [
    {
     "data": {
      "text/plain": [
       "'Dense'"
      ]
     },
     "execution_count": 62,
     "metadata": {},
     "output_type": "execute_result"
    }
   ],
   "source": [
    "model_config['config']['layers'][1]['class_name']"
   ]
  },
  {
   "cell_type": "code",
   "execution_count": 64,
   "id": "0a878790-f029-4cbe-a618-ac2ec8edb588",
   "metadata": {},
   "outputs": [
    {
     "data": {
      "text/plain": [
       "dict_keys(['name', 'trainable', 'batch_input_shape', 'dtype', 'units', 'activation', 'use_bias', 'kernel_initializer', 'bias_initializer', 'kernel_regularizer', 'bias_regularizer', 'activity_regularizer', 'kernel_constraint', 'bias_constraint'])"
      ]
     },
     "execution_count": 64,
     "metadata": {},
     "output_type": "execute_result"
    }
   ],
   "source": [
    "model_config['config']['layers'][1]['config'].keys()"
   ]
  },
  {
   "cell_type": "code",
   "execution_count": 66,
   "id": "66f031a0-388c-4264-8f95-9422294aa171",
   "metadata": {},
   "outputs": [
    {
     "name": "stdout",
     "output_type": "stream",
     "text": [
      "\n",
      " InputLayer :\n",
      "   hidden_1_input [None, 2] float32\n",
      "\n",
      " Dense :\n",
      "   hidden_1 10 float32 sigmoid True\n",
      "\n",
      " Dense :\n",
      "   output 1 float32 linear False\n"
     ]
    }
   ],
   "source": [
    "l_layers_cnf = []\n",
    "l_keys = ['name','units','dtype','activation','use_bias']\n",
    "\n",
    "for layer in model_config['config']['layers']:\n",
    "    l_cnf = layer['config']\n",
    "    class_name = layer['class_name']\n",
    "    print('\\n',class_name,':')\n",
    "    if class_name == 'InputLayer' :\n",
    "        print('  ',l_cnf['name'], l_cnf['batch_input_shape'], l_cnf['dtype'])\n",
    "    else:\n",
    "        d_cnf = { k : l_cnf[k] for k in l_keys }\n",
    "        print('  ', *list(d_cnf.values()))\n",
    "        l_layers_cnf.append(d_cnf)"
   ]
  },
  {
   "cell_type": "markdown",
   "id": "315d974d-f692-4b26-bd4c-b53cfcc5e1f7",
   "metadata": {},
   "source": [
    "## NUMPY MODEL"
   ]
  },
  {
   "cell_type": "markdown",
   "id": "2d91573b-96e3-4484-adc8-c6a12112c684",
   "metadata": {},
   "source": [
    "## Weights & Acts"
   ]
  },
  {
   "cell_type": "code",
   "execution_count": 77,
   "id": "9ea56a2e-fbda-4f75-a97e-236154e07c8e",
   "metadata": {},
   "outputs": [],
   "source": [
    "l_w, l_b, l_a = [], [], []\n",
    "\n",
    "for layer_cnf in l_layers_cnf:\n",
    "    name = layer_cnf['name']\n",
    "    activation = layer_cnf['activation']\n",
    "    d_weights = model_weights[name][name]\n",
    "    \n",
    "    kernel = d_weights['kernel:0'][:]\n",
    "    bias = d_weights['bias:0'][:] if layer_cnf['use_bias'] else 0\n",
    "\n",
    "    l_w.append(kernel)\n",
    "    l_b.append(bias)\n",
    "    l_a.append(activation)"
   ]
  },
  {
   "cell_type": "markdown",
   "id": "04f859a9-fe1a-4e62-8050-8cb2c37930bd",
   "metadata": {},
   "source": [
    "### ACTIVATION FUNCS"
   ]
  },
  {
   "cell_type": "code",
   "execution_count": 127,
   "id": "ef6444c5-3805-44c5-b020-6d2695c2563b",
   "metadata": {},
   "outputs": [
    {
     "data": {
      "text/plain": [
       "'import numpy as np\\n\\nlinear = lambda x : x\\nrelu = lambda x : np.maximum(0,x)\\nsigmoid = lambda x : 1/(1 + np.exp(-x))\\n'"
      ]
     },
     "execution_count": 127,
     "metadata": {},
     "output_type": "execute_result"
    }
   ],
   "source": [
    "file = open('activations.py','r')\n",
    "s_code_act = file.read()\n",
    "file.close()\n",
    "s_code_act"
   ]
  },
  {
   "cell_type": "markdown",
   "id": "56f3ca77-1f53-46ab-b84d-3d4af4b4d5b7",
   "metadata": {},
   "source": [
    "## Functions Regex"
   ]
  },
  {
   "cell_type": "code",
   "execution_count": 146,
   "id": "b7e1825f-b97e-40be-9ecd-99c7b5a6ccc1",
   "metadata": {},
   "outputs": [
    {
     "name": "stdout",
     "output_type": "stream",
     "text": [
      "sigmoid = lambda x : 1/(1 + np.exp(-x))\n",
      "linear = lambda x : x\n",
      "\n",
      "d_act = { 'sigmoid' : sigmoid, 'linear' : linear }\n",
      "\n",
      "\n"
     ]
    }
   ],
   "source": [
    "import re\n",
    "\n",
    "def get_act_fnc(l_a):\n",
    "    string = ''\n",
    "    for activation in set(l_a):\n",
    "        pattern = activation + r'.*'\n",
    "        result = re.search(pattern,s_code_act)\n",
    "        if result:\n",
    "            string += result.group() + '\\n'\n",
    "            \n",
    "    string += '\\nd_act = { ' + ', '.join([ f\"'{act}' : {act}\" for act in set(l_a)]) + ' }\\n\\n'\n",
    "    return string\n",
    "\n",
    "print(get_act_fnc(l_a))"
   ]
  },
  {
   "cell_type": "markdown",
   "id": "1226fec9-3e21-4c11-bfc6-80cd0a9645d1",
   "metadata": {},
   "source": [
    "## FEEDFORWARD TEST"
   ]
  },
  {
   "cell_type": "code",
   "execution_count": 147,
   "id": "f92ac9d1-9d12-4a26-9eae-4a09d57c66e9",
   "metadata": {},
   "outputs": [
    {
     "name": "stdout",
     "output_type": "stream",
     "text": [
      "[[ 0.09024292]\n",
      " [ 1.1006538 ]\n",
      " [ 1.32896663]\n",
      " [-0.35731253]]\n"
     ]
    }
   ],
   "source": [
    "exec(get_act_fnc(l_a))\n",
    "\n",
    "output = x_sample\n",
    "\n",
    "for w,b,act in zip(l_w,l_b,l_a):\n",
    "    f_act = d_act[act]\n",
    "    output = f_act(output.dot(w) + b)\n",
    "\n",
    "print(output)"
   ]
  },
  {
   "cell_type": "markdown",
   "id": "4de46488-7691-4c01-8c7f-02537ffbc2f5",
   "metadata": {},
   "source": [
    "# NUMPY CLASS"
   ]
  },
  {
   "cell_type": "markdown",
   "id": "02d5741a-63b2-45ab-b2f9-191c1f5cd31f",
   "metadata": {},
   "source": [
    "## MODEL FILE GENERATION"
   ]
  },
  {
   "cell_type": "code",
   "execution_count": 177,
   "id": "451c22da-83cb-4138-adf3-2f027cda20ea",
   "metadata": {},
   "outputs": [
    {
     "name": "stdout",
     "output_type": "stream",
     "text": [
      "import numpy as np\n",
      "\n",
      "sigmoid = lambda x : 1/(1 + np.exp(-x))\n",
      "linear = lambda x : x\n",
      "\n",
      "d_act = { 'sigmoid' : sigmoid, 'linear' : linear }\n",
      "\n",
      "l_w = [[[-0.5692449808120728, 7.034882068634033, 0.8901565670967102, -1.2982566356658936, -7.78250789642334, -0.596753716468811, -3.094672679901123, 0.4607388377189636, -0.5057770609855652, -0.3972644507884979], [-0.9048697352409363, 6.902655124664307, 1.6131205558776855, -0.23207269608974457, 5.748035907745361, -0.43503740429878235, 5.758194923400879, 2.4055724143981934, -1.5594075918197632, -1.570223331451416]], [[0.12166593223810196], [1.637164831161499], [-0.4853067398071289], [0.09327518194913864], [1.5986828804016113], [0.031022746115922928], [-1.3279681205749512], [-0.7030462622642517], [0.2715253531932831], [0.3019183874130249]]]\n",
      "\n",
      "l_b = [[-0.07483713328838348, -4.254740238189697, -0.608847975730896, -0.5387024283409119, -0.8356730341911316, -0.22868682444095612, -0.4641977548599243, -1.3353506326675415, 0.20014885067939758, 0.09103742241859436], 0]\n",
      "\n",
      "l_a = ['sigmoid', 'linear']\n",
      "l_w = list(map(np.array,l_w))\n",
      "l_b = list(map(lambda x : np.array(x) if type(x) is list else x, l_b))\n",
      "\n",
      "def feedforward(x):\n",
      "    output = x.copy()\n",
      "    for w,b,act in zip(l_w,l_b,l_a):\n",
      "        f_act = d_act[act]\n",
      "        output = f_act(output.dot(w) + b)\n",
      "    return output\n",
      "\n"
     ]
    }
   ],
   "source": [
    "s_code = 'import numpy as np\\n\\n'\n",
    "s_code += get_act_fnc(l_a)\n",
    "s_code += f'l_w = {str(list(map(lambda w : w.tolist(), l_w)))}\\n\\n'\n",
    "s_code += f'l_b = {str(list(map(lambda b : b if type(b) is int else b.tolist(), l_b)))}\\n\\n'\n",
    "s_code += f'l_a = {str(l_a)}\\n'\n",
    "\n",
    "s_code += f'l_w = list(map(np.array,l_w))\\n'\n",
    "s_code += f'l_b = list(map(lambda x : np.array(x) if type(x) is list else x, l_b))\\n'\n",
    "                       \n",
    "s_code += f'''\n",
    "def feedforward(x):\n",
    "    output = x.copy()\n",
    "    for w,b,act in zip(l_w,l_b,l_a):\n",
    "        f_act = d_act[act]\n",
    "        output = f_act(output.dot(w) + b)\n",
    "    return output\n",
    "'''\n",
    "print(s_code)\n",
    "\n",
    "file = open('model.py', 'w')\n",
    "file.write(s_code)\n",
    "file.close()"
   ]
  },
  {
   "cell_type": "markdown",
   "id": "f69cfa52-96cc-4c38-ad4c-fe15f3501041",
   "metadata": {},
   "source": [
    "## MODEL FILE TEST"
   ]
  },
  {
   "cell_type": "code",
   "execution_count": 178,
   "id": "8a8cc03a-454e-4396-be04-eaa0fdb208ef",
   "metadata": {},
   "outputs": [],
   "source": [
    "import model"
   ]
  },
  {
   "cell_type": "code",
   "execution_count": 179,
   "id": "c551ec60-29a3-411f-930c-dde33a8b670f",
   "metadata": {},
   "outputs": [
    {
     "data": {
      "text/plain": [
       "array([[ 0.09024292],\n",
       "       [ 1.1006538 ],\n",
       "       [ 1.32896663],\n",
       "       [-0.35731253]])"
      ]
     },
     "execution_count": 179,
     "metadata": {},
     "output_type": "execute_result"
    }
   ],
   "source": [
    "model.feedforward(x = x_sample)"
   ]
  }
 ],
 "metadata": {
  "kernelspec": {
   "display_name": "Python 3 (ipykernel)",
   "language": "python",
   "name": "python3"
  },
  "language_info": {
   "codemirror_mode": {
    "name": "ipython",
    "version": 3
   },
   "file_extension": ".py",
   "mimetype": "text/x-python",
   "name": "python",
   "nbconvert_exporter": "python",
   "pygments_lexer": "ipython3",
   "version": "3.9.0"
  },
  "toc-autonumbering": true
 },
 "nbformat": 4,
 "nbformat_minor": 5
}
